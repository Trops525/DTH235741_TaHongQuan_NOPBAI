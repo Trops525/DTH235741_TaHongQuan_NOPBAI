{
 "cells": [
  {
   "cell_type": "code",
   "id": "initial_id",
   "metadata": {
    "collapsed": true
   },
   "source": "print(' Hello wolrd ')",
   "outputs": [],
   "execution_count": null
  },
  {
   "metadata": {},
   "cell_type": "code",
   "source": "print(' Albert Einstein đã từng nói: Một người không bao giờ mắc sai lầm không bao giờ thử bất kỳ điều gì mới.')",
   "id": "dbd769e112888164",
   "outputs": [],
   "execution_count": null
  },
  {
   "metadata": {},
   "cell_type": "code",
   "source": [
    "if 5 > 2:\n",
    "    print(' Five is greater than two! ')"
   ],
   "id": "b6f35838f3e252c4",
   "outputs": [],
   "execution_count": null
  },
  {
   "metadata": {},
   "cell_type": "code",
   "source": [
    "total = 1 + \\\n",
    "2 + \\\n",
    "3\n",
    "print(total); print('Hello Python!')"
   ],
   "id": "cd61ecc4c38a1d33",
   "outputs": [],
   "execution_count": null
  },
  {
   "metadata": {},
   "cell_type": "code",
   "source": [
    "if True:\n",
    "    print('True')\n",
    "else:\n",
    "    print('False')"
   ],
   "id": "2df32677300d551c",
   "outputs": [],
   "execution_count": null
  },
  {
   "metadata": {},
   "cell_type": "code",
   "source": [
    "#This is a comment\n",
    "print('Hello, Wolrd!')"
   ],
   "id": "ee9ddc5a0916cd86",
   "outputs": [],
   "execution_count": null
  },
  {
   "metadata": {},
   "cell_type": "code",
   "source": [
    "import math\n",
    "import os"
   ],
   "id": "20b29771331cda66",
   "outputs": [],
   "execution_count": null
  },
  {
   "metadata": {},
   "cell_type": "code",
   "source": [
    "def add(a,b):\n",
    "    result = a + b\n",
    "    return result"
   ],
   "id": "390ea6f947eda7ee",
   "outputs": [],
   "execution_count": null
  },
  {
   "metadata": {
    "jupyter": {
     "is_executing": true
    }
   },
   "cell_type": "code",
   "source": [
    "import math\n",
    "import os"
   ],
   "id": "9e47172d3aec88d1",
   "outputs": [],
   "execution_count": null
  },
  {
   "metadata": {
    "jupyter": {
     "is_executing": true
    }
   },
   "cell_type": "code",
   "source": [
    "import math_Libs\n",
    "math_Libs.add(4,5)"
   ],
   "id": "fd724f6048935d2d",
   "outputs": [],
   "execution_count": null
  },
  {
   "metadata": {},
   "cell_type": "code",
   "source": [
    "# module1.py\n",
    "question = 'What is the meaning of life, the Universe, and Everything?'\n",
    "answer = 42\n",
    "# module2.py\n",
    "question = 'What is your quest?'\n",
    "answer = 'To seek the holy grail.'\n",
    "\n",
    "import module1\n",
    "import module2\n",
    "print(module1.question)\n",
    "print(module2.question)\n",
    "print(module1.answer)\n",
    "print(module1.answer)\n"
   ],
   "id": "8ea15d8cf5804f98",
   "outputs": [],
   "execution_count": null
  }
 ],
 "metadata": {
  "kernelspec": {
   "display_name": "Python 3",
   "language": "python",
   "name": "python3"
  },
  "language_info": {
   "codemirror_mode": {
    "name": "ipython",
    "version": 2
   },
   "file_extension": ".py",
   "mimetype": "text/x-python",
   "name": "python",
   "nbconvert_exporter": "python",
   "pygments_lexer": "ipython2",
   "version": "2.7.6"
  }
 },
 "nbformat": 4,
 "nbformat_minor": 5
}
