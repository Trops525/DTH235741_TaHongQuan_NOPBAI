{
 "cells": [
  {
   "cell_type": "code",
   "execution_count": 1,
   "id": "7d9ba3dd",
   "metadata": {},
   "outputs": [
    {
     "name": "stdout",
     "output_type": "stream",
     "text": [
      "Lỗi rồi!\n"
     ]
    }
   ],
   "source": [
    "import math\n",
    "try:\n",
    " r=float(input(\"Mời bạn nhập bán kính hình tròn:\"))\n",
    " cv=2*math.pi*r\n",
    " dt=r**2\n",
    " print(\"Chu vi =\",cv)\n",
    " print(\"Diện tích=\",dt)\n",
    "except:\n",
    " print(\"Lỗi rồi!\")"
   ]
  },
  {
   "cell_type": "code",
   "execution_count": 2,
   "id": "68d5700e",
   "metadata": {},
   "outputs": [
    {
     "name": "stdout",
     "output_type": "stream",
     "text": [
      "6 : 10 : 22\n"
     ]
    }
   ],
   "source": [
    "t=int(input(\"Nhập số giây:\"))\n",
    "hour=(t//3600)%24\n",
    "minute=(t%3600)//60\n",
    "second=(t%3600)%60\n",
    "print(hour,\":\",minute,\":\",second)"
   ]
  },
  {
   "cell_type": "code",
   "execution_count": 3,
   "id": "f0dccc17",
   "metadata": {},
   "outputs": [
    {
     "name": "stdout",
     "output_type": "stream",
     "text": [
      "Điểm trung bình= 6.0\n",
      "Điểm trung bình= 6.0\n"
     ]
    }
   ],
   "source": [
    "toan=float(input(\"Nhập điểm Toán:\"))\n",
    "ly=float(input(\"Nhập điểm lý:\"))\n",
    "hoa=float(input(\"Nhập điểm hóa:\"))\n",
    "dtb=(toan+ly+hoa)/3\n",
    "print(\"Điểm trung bình=\",dtb)\n",
    "print(\"Điểm trung bình=\",round(dtb,2))\n"
   ]
  },
  {
   "cell_type": "code",
   "execution_count": 7,
   "id": "afbc82ee",
   "metadata": {},
   "outputs": [
    {
     "name": "stdout",
     "output_type": "stream",
     "text": [
      "Chương trình tính điểm trung bình\n",
      "Điểm toán= 9\n",
      "Điểm lý= 6\n",
      "Điểm hóa= 7\n",
      "Điểm trung bình= 7.333333333333333\n",
      "Điểm làm tròn= 7.33\n"
     ]
    }
   ],
   "source": [
    "print(\"Chương trình tính điểm trung bình\")\n",
    "toan,ly,hoa=eval(input(\"Nhập điểm toán,lý,hóa:\"))\n",
    "print(\"Điểm toán=\",toan)\n",
    "print(\"Điểm lý=\",ly)\n",
    "print(\"Điểm hóa=\",hoa)\n",
    "dtb=(toan+ly+hoa)/3\n",
    "print(\"Điểm trung bình=\",dtb)\n",
    "print(\"Điểm làm tròn=\",round(dtb,2))"
   ]
  },
  {
   "cell_type": "code",
   "execution_count": 11,
   "id": "45b5dac1",
   "metadata": {},
   "outputs": [
    {
     "name": "stdout",
     "output_type": "stream",
     "text": [
      "ket qua -13 4 1.0 1 -2.6 -3 8.666666666666666 8 4.0 4 -0.5 -0.5 0.9 0.36363636363636365 6.833333333333333 2.1666666666666665 6.833333333333333 52.5\n"
     ]
    },
    {
     "data": {
      "text/plain": [
       "'Phép chia /\\n\\nLuôn cho ra kiểu float kể cả khi chia hết.\\n\\nVí dụ: c = 2 / (5 + -3) = 1.0 (không phải 1).\\n\\nPhép chia nguyên //\\n\\nTrả về số nguyên (int) nếu cả hai toán hạng là int.\\n\\nNếu có số thực (float) thì kết quả vẫn float nhưng lấy floor (làm tròn xuống).\\n\\nVí dụ: d = 2 // 2 = 1 (int), k = 12 // 3 = 4.\\n\\nThứ tự ưu tiên\\n\\nNgoặc () > nhân/chia * / // > cộng/trừ + -.\\n\\nVí dụ: g = 3 + 4 + 5 / 3 → 5 / 3 tính trước rồi cộng.\\n\\nTrong khi (3 + 4 + 5) / 3 thì cộng hết trước rồi chia.\\n\\nSố âm và phép nhân/chia\\n\\nKhi có số âm, cần chú ý dấu.\\n\\nVí dụ: a = 2 + (5 * -3) = -13.\\n\\nBiểu thức có float (d1, d2, d3)\\n\\nKết quả thường là số thực với nhiều số thập phân.\\n\\nVí dụ: o = 2.0 / (5.0 - -0.5) ≈ 0.363636...'"
      ]
     },
     "execution_count": 11,
     "metadata": {},
     "output_type": "execute_result"
    }
   ],
   "source": [
    "i1 = 2\n",
    "i2 = 5\n",
    "i3 = -3\n",
    "d1 = 2.0\n",
    "d2 = 5.0\n",
    "d3 = -0.5\n",
    "\n",
    "a = i1 + (i2 * i3)\n",
    "b = i1 * (i2 + i3)\n",
    "c = i1 / (i2 + i3)\n",
    "d = i1 // (i2 + i3)\n",
    "e = i1 / i2 + i3\n",
    "f = i1 // i2 + i3\n",
    "g = 3 + 4 + 5 / 3\n",
    "h = 3 + 4 + 5 // 3\n",
    "j = (3 + 4 + 5) / 3\n",
    "k = (3 + 4 + 5) // 3\n",
    "l = d1 + (d2 * d3)\n",
    "m = d1 + d2 * d3\n",
    "n = d1 / d2 - d3\n",
    "o = d1 / (d2 - d3)\n",
    "p = d1 + d2 + d3 / 3\n",
    "q = (d1 + d2 + d3) / 3\n",
    "r = d1 + d2 + (d3 / 3)\n",
    "s = 3 * (d1 + d2) * (d1 - d3)\n",
    "\n",
    "print(\"ket qua\",a,b,c,d,e,f,g,h,j,k,l,m,n,o,p,q,r,s)\n",
    "'''Phép chia /\n",
    "\n",
    "Luôn cho ra kiểu float kể cả khi chia hết.\n",
    "\n",
    "Ví dụ: c = 2 / (5 + -3) = 1.0 (không phải 1).\n",
    "\n",
    "Phép chia nguyên //\n",
    "\n",
    "Trả về số nguyên (int) nếu cả hai toán hạng là int.\n",
    "\n",
    "Nếu có số thực (float) thì kết quả vẫn float nhưng lấy floor (làm tròn xuống).\n",
    "\n",
    "Ví dụ: d = 2 // 2 = 1 (int), k = 12 // 3 = 4.\n",
    "\n",
    "Thứ tự ưu tiên\n",
    "\n",
    "Ngoặc () > nhân/chia * / // > cộng/trừ + -.\n",
    "\n",
    "Ví dụ: g = 3 + 4 + 5 / 3 → 5 / 3 tính trước rồi cộng.\n",
    "\n",
    "Trong khi (3 + 4 + 5) / 3 thì cộng hết trước rồi chia.\n",
    "\n",
    "Số âm và phép nhân/chia\n",
    "\n",
    "Khi có số âm, cần chú ý dấu.\n",
    "\n",
    "Ví dụ: a = 2 + (5 * -3) = -13.\n",
    "\n",
    "Biểu thức có float (d1, d2, d3)\n",
    "\n",
    "Kết quả thường là số thực với nhiều số thập phân.\n",
    "\n",
    "Ví dụ: o = 2.0 / (5.0 - -0.5) ≈ 0.363636...'''"
   ]
  },
  {
   "cell_type": "markdown",
   "id": "88b62155",
   "metadata": {},
   "source": []
  }
 ],
 "metadata": {
  "kernelspec": {
   "display_name": "Python 3",
   "language": "python",
   "name": "python3"
  },
  "language_info": {
   "codemirror_mode": {
    "name": "ipython",
    "version": 3
   },
   "file_extension": ".py",
   "mimetype": "text/x-python",
   "name": "python",
   "nbconvert_exporter": "python",
   "pygments_lexer": "ipython3",
   "version": "3.13.7"
  }
 },
 "nbformat": 4,
 "nbformat_minor": 5
}
